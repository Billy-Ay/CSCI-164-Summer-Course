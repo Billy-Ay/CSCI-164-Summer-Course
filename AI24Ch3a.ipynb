{
  "nbformat": 4,
  "nbformat_minor": 0,
  "metadata": {
    "colab": {
      "provenance": [],
      "include_colab_link": true
    },
    "kernelspec": {
      "name": "python3",
      "display_name": "Python 3"
    }
  },
  "cells": [
    {
      "cell_type": "markdown",
      "metadata": {
        "id": "view-in-github",
        "colab_type": "text"
      },
      "source": [
        "<a href=\"https://colab.research.google.com/github/Billy-Ay/CSCI-164-Summer-Course/blob/main/AI24Ch3a.ipynb\" target=\"_parent\"><img src=\"https://colab.research.google.com/assets/colab-badge.svg\" alt=\"Open In Colab\"/></a>"
      ]
    },
    {
      "cell_type": "code",
      "metadata": {
        "id": "Gbe5KqWcISTq"
      },
      "source": [
        "import random\n",
        "import heapq"
      ],
      "execution_count": 37,
      "outputs": []
    },
    {
      "cell_type": "markdown",
      "metadata": {
        "id": "PHnbnN2uV8zr"
      },
      "source": [
        "# Tile Sliding Domain: Initial State Space"
      ]
    },
    {
      "cell_type": "code",
      "metadata": {
        "id": "jPCNOa4W-5yq"
      },
      "source": [
        "StateDimension=4\n",
        "InitialState = [1,2,3,4,5,6,7,8,13,14,9,12,10,11,15,0]\n",
        "GoalState=[1,2,3,4,5,6,7,8,9,10,11,12,13,14,15,0]\n",
        "Actions = lambda s: ['u', 'd', 'l', 'r']\n",
        "Opposite=dict([('u','d'),('d','u'),('l','r'),('r','l'), (None, None)])"
      ],
      "execution_count": 38,
      "outputs": []
    },
    {
      "cell_type": "code",
      "metadata": {
        "id": "XjnzkkC8_HE8"
      },
      "source": [
        "def Result(state, action):\n",
        "  i = state.index(0)\n",
        "  newState = list(state)\n",
        "  row,col=i//StateDimension, i % StateDimension\n",
        "  if ( (action=='u' and row==0) or\n",
        "       (action=='d' and row==StateDimension-1) or\n",
        "       (action=='l' and col==0) or\n",
        "       (action=='r' and col==StateDimension-1)):\n",
        "      return newState\n",
        "  if action=='u':\n",
        "    l,r = row*StateDimension+col, (row-1)*StateDimension+col\n",
        "  elif action=='d':\n",
        "    l,r = row*StateDimension+col, (row+1)*StateDimension+col\n",
        "  elif action=='l':\n",
        "    l,r = row*StateDimension+col, row*StateDimension+col-1\n",
        "  elif action=='r' :\n",
        "    l,r = row*StateDimension+col, row*StateDimension+col+1\n",
        "  newState[l], newState[r] = newState[r], newState[l]\n",
        "  return newState\n",
        "\n",
        "def PrintState(s):\n",
        "  for i in range(0,len(s),StateDimension):\n",
        "    print(s[i:i+StateDimension])\n",
        "\n",
        "def LegalMove(state, action):\n",
        "  i = state.index(0)\n",
        "  row,col=i//StateDimension, i % StateDimension\n",
        "  newState = state.copy()\n",
        "  if ( (action=='u' and row==0) or\n",
        "       (action=='d' and row==StateDimension-1) or\n",
        "       (action=='l' and col==0) or\n",
        "       (action=='r' and col==StateDimension-1)):\n",
        "      return False\n",
        "  return True\n"
      ],
      "execution_count": 39,
      "outputs": []
    },
    {
      "cell_type": "code",
      "metadata": {
        "colab": {
          "base_uri": "https://localhost:8080/"
        },
        "id": "bE7MrTAI_t6i",
        "outputId": "0cc4985f-a287-40e9-efc3-9e13135fe289"
      },
      "source": [
        "PrintState(InitialState)"
      ],
      "execution_count": 40,
      "outputs": [
        {
          "output_type": "stream",
          "name": "stdout",
          "text": [
            "[1, 2, 3, 4]\n",
            "[5, 6, 7, 8]\n",
            "[13, 14, 9, 12]\n",
            "[10, 11, 15, 0]\n"
          ]
        }
      ]
    },
    {
      "cell_type": "code",
      "metadata": {
        "colab": {
          "base_uri": "https://localhost:8080/"
        },
        "id": "wRULKFeXVcp3",
        "outputId": "0d07f281-2a6c-4d46-d555-b2de096a7f89"
      },
      "source": [
        "PrintState(GoalState)"
      ],
      "execution_count": 41,
      "outputs": [
        {
          "output_type": "stream",
          "name": "stdout",
          "text": [
            "[1, 2, 3, 4]\n",
            "[5, 6, 7, 8]\n",
            "[9, 10, 11, 12]\n",
            "[13, 14, 15, 0]\n"
          ]
        }
      ]
    },
    {
      "cell_type": "code",
      "metadata": {
        "id": "Rc_8ohYvNIq-"
      },
      "source": [
        "def ApplyMoves(actions, state):\n",
        "  for action in actions:\n",
        "    state = Result(state, action)\n",
        "  return state"
      ],
      "execution_count": 42,
      "outputs": []
    },
    {
      "cell_type": "code",
      "metadata": {
        "id": "_VS2KzQbOHlO"
      },
      "source": [
        "def ReverseMoves(actions):\n",
        "  ret = [Opposite[a] for a in actions]\n",
        "  ret.reverse()\n",
        "  return ret"
      ],
      "execution_count": 43,
      "outputs": []
    },
    {
      "cell_type": "markdown",
      "metadata": {
        "id": "8ABBDMJLROdo"
      },
      "source": [
        "## Problem Class\n",
        "\n",
        "INITIAL = InitialState  \n",
        "IsGoal = Goal Test  \n",
        "Actions = Actions List  \n",
        "Result = Action Behavior  \n",
        "ActionCost = Action Cost  "
      ]
    },
    {
      "cell_type": "code",
      "metadata": {
        "id": "fo6sq7myRQpE"
      },
      "source": [
        "class Problem(object): pass"
      ],
      "execution_count": 44,
      "outputs": []
    },
    {
      "cell_type": "markdown",
      "metadata": {
        "id": "aAHXlWteQ2LN"
      },
      "source": [
        "## Node"
      ]
    },
    {
      "cell_type": "code",
      "metadata": {
        "id": "URRYlfS9Q3vx"
      },
      "source": [
        "class Node(object):\n",
        "  def __init__(self, state, parent=None, action=None, path_cost=0 ):\n",
        "    self.State=state\n",
        "    self.Parent=parent\n",
        "    self.Action=action\n",
        "    self.PathCost = path_cost\n",
        "\n",
        "  def __str__(self):\n",
        "    action = \"<none>\" if not self.Action else self.Action\n",
        "    return str(self.State) + \", \" + action\n",
        "  def __repr__(self):\n",
        "    action = \"<none>\" if not self.Action else self.Action\n",
        "    return str(self.State) + \", \" + action\n",
        "  def __lt__(self, other):\n",
        "    return self.PathCost < other.PathCost;"
      ],
      "execution_count": 45,
      "outputs": []
    },
    {
      "cell_type": "markdown",
      "metadata": {
        "id": "LpzKnx4rkxL9"
      },
      "source": [
        "## Expand"
      ]
    },
    {
      "cell_type": "code",
      "metadata": {
        "id": "CRj9UnyHdDo_"
      },
      "source": [
        "def Expand(problem, node):\n",
        "  ret = []\n",
        "  s = node.State\n",
        "  for action in problem.Actions(s):\n",
        "    sPrime = problem.Result(s, action)\n",
        "    cost =node.PathCost + problem.ActionCost(s,action,sPrime)\n",
        "    ret.append(Node(sPrime, node, action, cost))\n",
        "  return ret\n"
      ],
      "execution_count": 46,
      "outputs": []
    },
    {
      "cell_type": "markdown",
      "metadata": {
        "id": "Ee2ZYxjVlBSl"
      },
      "source": [
        "## Breadth-First Search"
      ]
    },
    {
      "cell_type": "code",
      "metadata": {
        "id": "DZoCxoGzkt4E"
      },
      "source": [
        "def BreadthFirstSearch(problem):\n",
        "  node = Node(tuple(problem.INITIAL))\n",
        "  if problem.IsGoal(node.State):\n",
        "    return node, 0\n",
        "  Frontier = []\n",
        "  Frontier.append(node)\n",
        "  reached = set()\n",
        "  reached.add(tuple(problem.INITIAL))\n",
        "  nodesExpanded = 0\n",
        "  while (Frontier):\n",
        "    ### print([str(n) for n in Frontier])\n",
        "    node = Frontier.pop(0)\n",
        "    ### print(node)\n",
        "    for child in Expand(problem, node):\n",
        "      s = tuple(child.State)\n",
        "      ### print (s, \"IsGoal=\", problem.IsGoal(s))\n",
        "      if problem.IsGoal(s):\n",
        "        return child, nodesExpanded\n",
        "      if s not in reached:\n",
        "        reached.add(s)\n",
        "        Frontier.append(child)\n",
        "    nodesExpanded += 1\n",
        "    if nodesExpanded > 500000:\n",
        "      break;\n",
        "  return None, nodesExpanded"
      ],
      "execution_count": 58,
      "outputs": []
    },
    {
      "cell_type": "markdown",
      "metadata": {
        "id": "kRjolRYslOa4"
      },
      "source": [
        "## Problem 1"
      ]
    },
    {
      "cell_type": "code",
      "metadata": {
        "colab": {
          "base_uri": "https://localhost:8080/"
        },
        "id": "dLWDIbmsRGY3",
        "outputId": "8d31856b-27a4-4694-cfad-27887ee4a533"
      },
      "source": [
        "TileSliding = Problem()\n",
        "TileSliding.INITIAL = InitialState\n",
        "TileSliding.IsGoal = lambda s: s==(1,2,3,4,5,6,7,8,9,10,11,12,13,14,15,0)\n",
        "TileSliding.Actions = Actions\n",
        "TileSliding.Result=Result\n",
        "TileSliding.ActionCost = lambda s, a, sPrime: 1\n",
        "print( TileSliding.IsGoal((1,2,3,4,5,6,7,8,9,10,11,12,13,14,15,0)) )\n",
        "print( Node(InitialState) )\n",
        "print(1+TileSliding.ActionCost(1,2,3))"
      ],
      "execution_count": 59,
      "outputs": [
        {
          "output_type": "stream",
          "name": "stdout",
          "text": [
            "True\n",
            "[1, 2, 3, 4, 5, 6, 7, 8, 13, 14, 9, 12, 10, 11, 15, 0], <none>\n",
            "2\n"
          ]
        }
      ]
    },
    {
      "cell_type": "code",
      "metadata": {
        "colab": {
          "base_uri": "https://localhost:8080/"
        },
        "id": "6VoIEO4c1gHz",
        "outputId": "905075fd-2fdc-438b-b8b8-a07a480a4917"
      },
      "source": [
        "TileSliding.INITIAL = InitialState\n",
        "ret, cost = BreadthFirstSearch(TileSliding)\n",
        "print (ret, cost)"
      ],
      "execution_count": 60,
      "outputs": [
        {
          "output_type": "stream",
          "name": "stdout",
          "text": [
            "[1, 2, 3, 4, 5, 6, 7, 8, 9, 10, 11, 12, 13, 14, 15, 0], r 7398\n"
          ]
        }
      ]
    },
    {
      "cell_type": "code",
      "metadata": {
        "id": "3hsBKY7Fle3w"
      },
      "source": [
        "def Solution(node):\n",
        "  if node.Parent==None:\n",
        "    return []\n",
        "  return Solution(node.Parent) + [node.Action]\n"
      ],
      "execution_count": 61,
      "outputs": []
    },
    {
      "cell_type": "code",
      "metadata": {
        "colab": {
          "base_uri": "https://localhost:8080/"
        },
        "id": "rtr7Vr84NAfY",
        "outputId": "4a9fcc76-2a3f-4297-b76f-ff377f5fa6bf"
      },
      "source": [
        "sol = Solution(ret)\n",
        "print (sol)\n",
        "print (TileSliding.INITIAL)\n",
        "print (ApplyMoves(sol, TileSliding.INITIAL))"
      ],
      "execution_count": 62,
      "outputs": [
        {
          "output_type": "stream",
          "name": "stdout",
          "text": [
            "['l', 'l', 'u', 'r', 'd', 'l', 'l', 'u', 'r', 'd', 'r', 'r']\n",
            "[1, 2, 3, 4, 5, 6, 7, 8, 13, 14, 9, 12, 10, 11, 15, 0]\n",
            "[1, 2, 3, 4, 5, 6, 7, 8, 9, 10, 11, 12, 13, 14, 15, 0]\n"
          ]
        }
      ]
    },
    {
      "cell_type": "code",
      "metadata": {
        "colab": {
          "base_uri": "https://localhost:8080/"
        },
        "id": "RDE3dNP8NOU7",
        "outputId": "af903e05-b53e-4ab2-f0b5-785b1390e1e0"
      },
      "source": [
        "TileSliding.INITIAL = InitialState\n",
        "ret, cost = BreadthFirstSearch(TileSliding)\n",
        "print (ret, cost)"
      ],
      "execution_count": 63,
      "outputs": [
        {
          "output_type": "stream",
          "name": "stdout",
          "text": [
            "[1, 2, 3, 4, 5, 6, 7, 8, 9, 10, 11, 12, 13, 14, 15, 0], r 7398\n"
          ]
        }
      ]
    },
    {
      "cell_type": "code",
      "metadata": {
        "colab": {
          "base_uri": "https://localhost:8080/"
        },
        "id": "YBkLupiYNyZ_",
        "outputId": "5878c580-e2d5-4726-a7bf-fe64bbadc2f5"
      },
      "source": [
        "sol = Solution(ret)\n",
        "print (sol)\n",
        "print (TileSliding.INITIAL)\n",
        "print (ApplyMoves(sol, TileSliding.INITIAL))"
      ],
      "execution_count": 54,
      "outputs": [
        {
          "output_type": "stream",
          "name": "stdout",
          "text": [
            "['l', 'l', 'u', 'r', 'd', 'l', 'l', 'u', 'r', 'd', 'r', 'r']\n",
            "[1, 2, 3, 4, 5, 6, 7, 8, 13, 14, 9, 12, 10, 11, 15, 0]\n",
            "[1, 2, 3, 4, 5, 6, 7, 8, 9, 10, 11, 12, 13, 14, 15, 0]\n"
          ]
        }
      ]
    },
    {
      "cell_type": "markdown",
      "metadata": {
        "id": "tdtWdXGlXFGG"
      },
      "source": [
        "# Problem List"
      ]
    },
    {
      "cell_type": "markdown",
      "metadata": {
        "id": "TpdrxwA8UvFn"
      },
      "source": [
        "### Breadth First Search w/ Test Problems"
      ]
    },
    {
      "cell_type": "code",
      "metadata": {
        "id": "xrni2RRIXkfU"
      },
      "source": [
        "testProblems = [[5, 3, 0, 4, 7, 6, 2, 1, 8], [3, 2, 0, 1, 5, 4, 7, 8, 6], [0, 1, 3, 8, 5, 2, 6, 7, 4],\n",
        "                [3, 7, 6, 2, 4, 1, 8, 5, 0], [6, 7, 5, 8, 0, 1, 2, 3, 4], [7, 4, 6, 8, 0, 1, 3, 2, 5],\n",
        "                [0, 1, 8, 3, 5, 2, 6, 4, 7], [0, 4, 6, 5, 8, 1, 7, 2, 3], [1, 5, 7, 6, 0, 3, 4, 2, 8],\n",
        "                [0, 2, 4, 1, 7, 6, 3, 5, 8]]\n",
        "\n",
        "Solutions = []\n",
        "for s in testProblems:\n",
        "  TileSliding.INITIAL = s\n",
        "  ret, cost = BreadthFirstSearch(TileSliding)\n",
        "  sol = Solution(ret)\n",
        "  print (sol)\n",
        "  print (\"-----------------------\")\n",
        "  print (TileSliding.INITIAL,'\\n')\n",
        "  print (ApplyMoves(sol, TileSliding.INITIAL))\n",
        "  print (\"Length of solution: \", len(sol))\n",
        "  print (\"Nodes Expanded=\", cost)\n",
        "  print (\"-----------------------\")\n",
        "  Solutions.append((''.join(map(str, s)), ''.join(sol), cost))\n",
        "print (\"-------\")\n",
        "print (Solutions)\n"
      ],
      "execution_count": null,
      "outputs": []
    },
    {
      "cell_type": "markdown",
      "metadata": {
        "id": "TFLhS5QmxRz2"
      },
      "source": [
        "# Domain 2"
      ]
    },
    {
      "cell_type": "code",
      "metadata": {
        "id": "PqDD8fsrxXK7"
      },
      "source": [
        "VectorWorldDim = 10\n",
        "VectorWorld = Problem()\n",
        "VectorWorld.INITIAL = [0]\n",
        "VectorWorld.IsGoal = lambda s: s==[3,] or s==(3,)\n",
        "VectorWorld.Actions = lambda s: ['Left', 'Right']\n",
        "## TileSliding.Result=VectorWorldResult\n",
        "VectorWorld.ActionCost = lambda s, a, sPrime: 1"
      ],
      "execution_count": null,
      "outputs": []
    },
    {
      "cell_type": "code",
      "metadata": {
        "id": "uWNR8AQJyCN7"
      },
      "source": [
        "def VectorWorldResult(state, action):\n",
        "  if action=='Left':\n",
        "    return [(state[0]+VectorWorldDim-1)%VectorWorldDim]\n",
        "  else:\n",
        "    return [(state[0]+1)%VectorWorldDim]\n",
        "VectorWorld.Result=VectorWorldResult\n"
      ],
      "execution_count": null,
      "outputs": []
    },
    {
      "cell_type": "code",
      "metadata": {
        "id": "Ox26cyPP2xba"
      },
      "source": [
        "print (VectorWorld.IsGoal((3,)))"
      ],
      "execution_count": null,
      "outputs": []
    },
    {
      "cell_type": "code",
      "metadata": {
        "id": "SBfeM9Vbykci"
      },
      "source": [
        "ret, cost = BreadthFirstSearch(VectorWorld)\n",
        "print (\"ret=\", ret)\n",
        "sol = Solution(ret)\n",
        "print (sol)\n"
      ],
      "execution_count": null,
      "outputs": []
    },
    {
      "cell_type": "code",
      "metadata": {
        "id": "dAbJ75Ym4WmP"
      },
      "source": [
        "VectorWorld.INITIAL = [8]"
      ],
      "execution_count": null,
      "outputs": []
    },
    {
      "cell_type": "code",
      "metadata": {
        "id": "QGO1VglP4Zq6"
      },
      "source": [
        "ret, cost = BreadthFirstSearch(VectorWorld)\n",
        "print (\"ret=\", ret)\n",
        "sol = Solution(ret)\n",
        "print (sol)"
      ],
      "execution_count": null,
      "outputs": []
    }
  ]
}